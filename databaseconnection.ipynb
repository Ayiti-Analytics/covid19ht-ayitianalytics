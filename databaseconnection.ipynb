{
 "cells": [
  {
   "cell_type": "code",
   "execution_count": 1,
   "metadata": {},
   "outputs": [],
   "source": [
    "import boto3\n",
    "from botocore.exceptions import ClientError\n",
    "import sys\n",
    "import requests\n",
    "import re\n",
    "import os\n",
    "import pandas as pd\n",
    "from sqlalchemy import create_engine\n",
    "import datetime\n",
    "import psycopg2\n",
    "import geopandas as gpd\n",
    "\n",
    "\n",
    ""
   ]
  },
  {
   "cell_type": "code",
   "execution_count": 2,
   "metadata": {},
   "outputs": [],
   "source": []
  },
  {
   "cell_type": "code",
   "execution_count": 3,
   "metadata": {},
   "outputs": [],
   "source": [
    "def validate_ip(ip):\n",
    "    ip_regex = r'^(([0-9]|[1-9][0-9]|1[0-9]{2}|2[0-4][0-9]|25[0-5])\\.){3}([0-9]|[1-9][0-9]|1[0-9]{2}|2[0-4][0-9]|25[0-5])$'\n",
    "    if re.match( ip_regex, ip):\n",
    "        return True\n",
    "    else:\n",
    "        print(\"IP Address provided does not match required pattern.\")\n",
    "        return False\n",
    ""
   ]
  },
  {
   "cell_type": "code",
   "execution_count": 4,
   "metadata": {},
   "outputs": [],
   "source": [
    "def update_db_with_ip(access_key, secret_access_key,\n",
    "                      security_group_id, rule_description = f'Updated on {datetime.date.today()}',\n",
    "                      ip_address = None, port = 5432):\n",
    "    \"\"\"\n",
    "    A function a given security group for database access to a provided IPV4 Adress.\n",
    "    \"\"\"\n",
    "    ec2 = boto3.client('ec2',\n",
    "                       region_name = 'us-east-2',\n",
    "                       aws_access_key_id = access_key,\n",
    "                       aws_secret_access_key = secret_access_key)\n",
    "    # Get current IP address\n",
    "    if ip_address is None:\n",
    "        ip_data = requests.get('https://ifconfig.me/ip')\n",
    "        ip_text = ip_data.text\n",
    "    else:\n",
    "        ip_text = ip_address\n",
    "    try:\n",
    "        if validate_ip:\n",
    "            pass\n",
    "        else:\n",
    "            raise\n",
    "    except:\n",
    "        print(\"Unexpected error:\", sys.exc_info()[0])\n",
    "        raise\n",
    "    try:\n",
    "        response = ec2.authorize_security_group_ingress(\n",
    "            GroupId=security_group_id,\n",
    "            IpPermissions=[\n",
    "                {\n",
    "                    'FromPort': 5432,\n",
    "                    'IpProtocol': 'tcp',\n",
    "                    'IpRanges': [\n",
    "                        {\n",
    "                            'CidrIp': ip_text+'/32',\n",
    "                            'Description': rule_description,\n",
    "                        },\n",
    "                    ],\n",
    "                    'ToPort': 5432,\n",
    "                },\n",
    "            ],\n",
    "        )\n",
    "        print(response)\n",
    "    except ClientError as e:\n",
    "        if e.response[\"Error\"][\"Code\"] == \"InvalidPermission.Duplicate\":\n",
    "            # ignore the target exception\n",
    "            print(f\"{ip_text} already open to {port}\")\n",
    "            pass\n",
    "        else:\n",
    "            print(e.response[\"Error\"][\"Code\"])\n",
    "            raise(e)\n",
    "    except:\n",
    "        print(\"Did not work\")\n",
    "        print(\"Unexpected error:\", sys.exc_info()[0])\n",
    "        raise(e)"
   ]
  },
  {
   "cell_type": "code",
   "execution_count": 5,
   "metadata": {},
   "outputs": [],
   "source": [
    "access_key=os.environ['AWS_ACCESS_KEY']\n",
    "secret_access_key=os.environ['AWS_SECRET_ACCESS_KEY']\n",
    "ip_data = requests.get('https://ifconfig.me/ip')\n",
    "security_group_id = 'sg-0849656f'"
   ]
  },
  {
   "cell_type": "code",
   "execution_count": 6,
   "metadata": {},
   "outputs": [],
   "source": [
    " ec2 = boto3.client('ec2',\n",
    "                       region_name = 'us-east-2',\n",
    "                       aws_access_key_id = access_key,\n",
    "                       aws_secret_access_key = secret_access_key)"
   ]
  },
  {
   "cell_type": "code",
   "execution_count": 7,
   "metadata": {},
   "outputs": [
    {
     "output_type": "stream",
     "name": "stdout",
     "text": "200.113.234.187 already open to 5432\n"
    }
   ],
   "source": [
    "update_db_with_ip(access_key, secret_access_key, security_group_id=security_group_id ,ip_address =ip_data.text, port = 5432)\n",
    ""
   ]
  },
  {
   "cell_type": "code",
   "execution_count": null,
   "metadata": {},
   "outputs": [],
   "source": []
  },
  {
   "cell_type": "code",
   "execution_count": 8,
   "metadata": {},
   "outputs": [],
   "source": [
    "def get_posgres_connection():\n",
    "    \n",
    "    access_key = os.getenv(\"AWS_ACCESS_KEY\")\n",
    "    secret_access_key = os.getenv(\"AWS_SECRET_ACCESS_KEY\")\n",
    "    username = os.getenv(\"USERNAME\")\n",
    "    ip_update_descrition = f\"{username} -{datetime.date.today()}\"\n",
    "    \n",
    "   \n",
    "    db_name = os.getenv(\"PSQL_DB_NAME\")\n",
    "    db_user = os.getenv(\"USERNAME\")\n",
    "    db_password = os.getenv(\"PASSWORD\")\n",
    "    db_host = os.getenv(\"PSQL_DB_HOST\")\n",
    "    sql_engine = create_engine(f'postgresql://{db_user}:{db_password}@{db_host}:5432/{db_name}')\n",
    "    return sql_engine\n",
    ""
   ]
  },
  {
   "cell_type": "code",
   "execution_count": 9,
   "metadata": {},
   "outputs": [],
   "source": [
    "connection = get_posgres_connection()"
   ]
  },
  {
   "cell_type": "code",
   "execution_count": 10,
   "metadata": {},
   "outputs": [],
   "source": [
    "def generate_PCODE(depart):\n",
    "     code = '00'+ str(depart)\n",
    "     return 'HT'+ code[len(code)-2:]\n",
    "   \n",
    ""
   ]
  },
  {
   "cell_type": "code",
   "execution_count": 11,
   "metadata": {},
   "outputs": [],
   "source": [
    "def generate_PCODE2(vilcom):\n",
    "     code = '00'+ str(depart)\n",
    "     return code[len(code)-2:]"
   ]
  },
  {
   "cell_type": "code",
   "execution_count": 12,
   "metadata": {},
   "outputs": [
    {
     "output_type": "execute_result",
     "data": {
      "text/plain": "'HT10'"
     },
     "metadata": {},
     "execution_count": 12
    }
   ],
   "source": [
    "generate_PCODE(10)"
   ]
  },
  {
   "cell_type": "code",
   "execution_count": 13,
   "metadata": {},
   "outputs": [],
   "source": [
    "def load_depart(spa=None,dept=None,boudaries_dep=None,pop_dep=None):\n",
    "\n",
    "    # STEP 1\n",
    "    # loads spa dataset\n",
    "    spa = pd.read_csv('spa.csv')\n",
    "    # replaces blank space by (_)\n",
    "    spa['facdesc_1'] = spa['facdesc_1'].str.replace(' ','_')\n",
    "    # computes dummies columns\n",
    "    spa = pd.get_dummies(spa, columns=['facdesc_1'],prefix='',prefix_sep='')\n",
    "    # sums the site health facilities\n",
    "    dept = spa.groupby(['departn','depart'])['CENTRE_DE_SANTE_AVEC_LIT','DISPENSAIRE','HOPITAL'].sum()\n",
    "    # renames departn column to ADM1_FR perform merging\n",
    "    dept=dept.reset_index().rename(columns= {'departn':'ADM1_FR'})\n",
    "    # generates PCODE\n",
    "    dept['ADM1_PCODE'] = dept['depart'].apply(lambda x: generate_PCODE(x))\n",
    "\n",
    "    # STEP 2\n",
    "    # reads adm1 shapefiles\n",
    "    boudaries_dep = gpd.read_file('boundaries/hti_admbnda_adm1_cnigs_20181129.shp')\n",
    "    # sets the geometry column\n",
    "    boudaries_dep.set_geometry('geometry')\n",
    "    # selects features needed\n",
    "    boudaries_dep=boudaries_dep[['ADM1_EN','ADM1_FR','ADM1_HT','ADM1_PCODE','geometry']]\n",
    "\n",
    "    \n",
    "    # STEP 3\n",
    "    # reads population dataset\n",
    "    pop_dep = pd.read_excel('datasets/hti_adminboundaries_tabulardata.xlsx',sheet_name='hti_pop2019_adm1')\n",
    "    # selects feautures needed\n",
    "    pop_dep = pop_dep[['adm1code','IHSI_UNFPA_2019','IHSI_UNFPA_2019_female','IHSI_UNFPA_2019_male']]\n",
    "    # renames adm1code to ADM1_PCODE\n",
    "    pop_dep =pop_dep.rename(columns ={\"adm1code\": \"ADM1_PCODE\"})\n",
    "\n",
    "     # STEP 4\n",
    "    boudaries_dep = pd.merge(boudaries_dep,dept,how ='left',left_on=['ADM1_PCODE'],right_on= ['ADM1_PCODE'])\n",
    "    # renames column \n",
    "    boudaries_dep = boudaries_dep.rename(columns ={'ADM1_FR_x': 'ADM1_FR'})\n",
    "    # selects features\n",
    "    columns = ['ADM1_PCODE','ADM1_EN','ADM1_FR','ADM1_HT','geometry','CENTRE_DE_SANTE_AVEC_LIT','DISPENSAIRE','HOPITAL']\n",
    "    boudaries_dep = boudaries_dep[columns]\n",
    "    # merges all dataset\n",
    "    boudaries_dep = pd.merge(boudaries_dep,pop_dep,how ='left',on='ADM1_PCODE')\n",
    "    return boudaries_dep\n",
    "     \n",
    ""
   ]
  },
  {
   "cell_type": "code",
   "execution_count": 14,
   "metadata": {},
   "outputs": [],
   "source": [
    "gdf = load_depart()"
   ]
  },
  {
   "cell_type": "code",
   "execution_count": 15,
   "metadata": {},
   "outputs": [],
   "source": [
    "def load_com(spa=None,dept=None,boudaries_dep=None,pop_dep=None):\n",
    "\n",
    "    # STEP 1\n",
    "    # loads spa dataset\n",
    "    spa = pd.read_csv('spa.csv')\n",
    "    # replaces blank space by (_)\n",
    "    spa['facdesc_1'] = spa['facdesc_1'].str.replace(' ','_')\n",
    "    # computes dummies columns\n",
    "    spa = pd.get_dummies(spa, columns=['facdesc_1'],prefix='',prefix_sep='')\n",
    "    # sums the site health facilities\n",
    "    com  = spa.groupby(['depart','departn','vilcomn','vilcom'])['CENTRE_DE_SANTE_AVEC_LIT','DISPENSAIRE','HOPITAL'].sum().reset_index()\n",
    "   \n",
    "    # renames columns needed\n",
    "    com= com.rename(columns={'departn':'ADM1_FR','vilcomn':'ADM2_FR'})\n",
    "    # generats PCODE\n",
    "    com['ADM2_PCODE'] = com['depart'].apply(lambda x: generate_PCODE(x))+ com['vilcom'].apply(lambda x: generate_PCODE2(x))\n",
    "    # remove duplicates\n",
    "    com =com.groupby(['ADM2_PCODE'])['CENTRE_DE_SANTE_AVEC_LIT','DISPENSAIRE','HOPITAL'].sum()\n",
    "    com = com.reset_index()\n",
    "   \n",
    "\n",
    "    # STEP 2\n",
    "    # reads adm2 shapefiles\n",
    "    boudaries_com = gpd.read_file('boundaries/hti_admbnda_adm2_cnigs_20181129.shp')\n",
    "    # sets the geometry column\n",
    "    boudaries_com.set_geometry('geometry')\n",
    "    # selects features needed\n",
    "    boudaries_com = boudaries_com[['ADM2_PCODE','ADM1_EN','ADM1_FR','ADM2_EN','ADM2_FR','geometry']]\n",
    "\n",
    "    \n",
    "    # STEP 3\n",
    "    # reads population dataset\n",
    "    pop_com = pd.read_excel('datasets/hti_adminboundaries_tabulardata.xlsx',sheet_name='hti_pop2019_adm2')\n",
    "    # selects feautures needed\n",
    "    pop_com = pop_com[['adm2code','IHSI_UNFPA_2019','IHSI_UNFPA_2019_female','IHSI_UNFPA_2019_male']]\n",
    "    # renames adm1code to ADM1_PCODE\n",
    "    pop_com = pop_com.rename(columns ={\"adm2code\": \"ADM2_PCODE\"})\n",
    "\n",
    "\n",
    "\n",
    "\n",
    "     # STEP 4\n",
    "    spa_boundaries_com =pd.merge(boudaries_com,com,how ='left',left_on=['ADM2_PCODE'],right_on= ['ADM2_PCODE'])\n",
    "   \n",
    "    spa_boundaries_com = pd.merge(spa_boundaries_com,pop_com,how ='left',on=['ADM2_PCODE'])\n",
    "    spa_boundaries_com.sort_values(by ='ADM2_PCODE')    \n",
    "\n",
    "    return spa_boundaries_com\n",
    "     "
   ]
  },
  {
   "cell_type": "code",
   "execution_count": 16,
   "metadata": {},
   "outputs": [
    {
     "output_type": "execute_result",
     "data": {
      "text/plain": "  ADM1_PCODE      ADM1_EN      ADM1_FR    ADM1_HT  \\\n0       HT05   Artibonite   Artibonite  Latibonit   \n1       HT06       Centre       Centre       Sant   \n2       HT08  Grande'Anse  Grande'Anse   Grandans   \n3       HT10       Nippes       Nippes        Nip   \n4       HT03        North         Nord         Nò   \n\n                                            geometry  \\\n0  POLYGON ((-72.69573 19.81251, -72.69408 19.811...   \n1  POLYGON ((-71.98404 19.33367, -71.98348 19.332...   \n2  MULTIPOLYGON (((-73.75492 18.64331, -73.75429 ...   \n3  POLYGON ((-73.56737 18.58722, -73.56536 18.585...   \n4  POLYGON ((-72.55529 19.87769, -72.55468 19.877...   \n\n   CENTRE_DE_SANTE_AVEC_LIT  DISPENSAIRE  HOPITAL  IHSI_UNFPA_2019  \\\n0                        17           74       11     2.047153e+06   \n1                        12           19        5     8.455942e+05   \n2                         5           29        4     4.810653e+05   \n3                         7           19        3     3.515933e+05   \n4                        15           26       18     1.159762e+06   \n\n   IHSI_UNFPA_2019_female  IHSI_UNFPA_2019_male  \n0                 1034065               1013085  \n1                  413649                431947  \n2                  229914                251152  \n3                  167185                184409  \n4                  589825                569932  ",
      "text/html": "<div>\n<style scoped>\n    .dataframe tbody tr th:only-of-type {\n        vertical-align: middle;\n    }\n\n    .dataframe tbody tr th {\n        vertical-align: top;\n    }\n\n    .dataframe thead th {\n        text-align: right;\n    }\n</style>\n<table border=\"1\" class=\"dataframe\">\n  <thead>\n    <tr style=\"text-align: right;\">\n      <th></th>\n      <th>ADM1_PCODE</th>\n      <th>ADM1_EN</th>\n      <th>ADM1_FR</th>\n      <th>ADM1_HT</th>\n      <th>geometry</th>\n      <th>CENTRE_DE_SANTE_AVEC_LIT</th>\n      <th>DISPENSAIRE</th>\n      <th>HOPITAL</th>\n      <th>IHSI_UNFPA_2019</th>\n      <th>IHSI_UNFPA_2019_female</th>\n      <th>IHSI_UNFPA_2019_male</th>\n    </tr>\n  </thead>\n  <tbody>\n    <tr>\n      <th>0</th>\n      <td>HT05</td>\n      <td>Artibonite</td>\n      <td>Artibonite</td>\n      <td>Latibonit</td>\n      <td>POLYGON ((-72.69573 19.81251, -72.69408 19.811...</td>\n      <td>17</td>\n      <td>74</td>\n      <td>11</td>\n      <td>2.047153e+06</td>\n      <td>1034065</td>\n      <td>1013085</td>\n    </tr>\n    <tr>\n      <th>1</th>\n      <td>HT06</td>\n      <td>Centre</td>\n      <td>Centre</td>\n      <td>Sant</td>\n      <td>POLYGON ((-71.98404 19.33367, -71.98348 19.332...</td>\n      <td>12</td>\n      <td>19</td>\n      <td>5</td>\n      <td>8.455942e+05</td>\n      <td>413649</td>\n      <td>431947</td>\n    </tr>\n    <tr>\n      <th>2</th>\n      <td>HT08</td>\n      <td>Grande'Anse</td>\n      <td>Grande'Anse</td>\n      <td>Grandans</td>\n      <td>MULTIPOLYGON (((-73.75492 18.64331, -73.75429 ...</td>\n      <td>5</td>\n      <td>29</td>\n      <td>4</td>\n      <td>4.810653e+05</td>\n      <td>229914</td>\n      <td>251152</td>\n    </tr>\n    <tr>\n      <th>3</th>\n      <td>HT10</td>\n      <td>Nippes</td>\n      <td>Nippes</td>\n      <td>Nip</td>\n      <td>POLYGON ((-73.56737 18.58722, -73.56536 18.585...</td>\n      <td>7</td>\n      <td>19</td>\n      <td>3</td>\n      <td>3.515933e+05</td>\n      <td>167185</td>\n      <td>184409</td>\n    </tr>\n    <tr>\n      <th>4</th>\n      <td>HT03</td>\n      <td>North</td>\n      <td>Nord</td>\n      <td>Nò</td>\n      <td>POLYGON ((-72.55529 19.87769, -72.55468 19.877...</td>\n      <td>15</td>\n      <td>26</td>\n      <td>18</td>\n      <td>1.159762e+06</td>\n      <td>589825</td>\n      <td>569932</td>\n    </tr>\n  </tbody>\n</table>\n</div>"
     },
     "metadata": {},
     "execution_count": 16
    }
   ],
   "source": [
    "load_depart().head()"
   ]
  },
  {
   "cell_type": "code",
   "execution_count": 17,
   "metadata": {},
   "outputs": [],
   "source": [
    "conn = connection.connect()"
   ]
  },
  {
   "cell_type": "code",
   "execution_count": 18,
   "metadata": {},
   "outputs": [
    {
     "output_type": "execute_result",
     "data": {
      "text/plain": "<sqlalchemy.engine.base.Connection at 0xf748da8>"
     },
     "metadata": {},
     "execution_count": 18
    }
   ],
   "source": [
    "conn"
   ]
  },
  {
   "cell_type": "code",
   "execution_count": 66,
   "metadata": {},
   "outputs": [],
   "source": [
    "mspp_covid19_cases = pd.read_sql('SELECT * FROM mspp_covid19_cases',conn)\n",
    "replace_pattern = {'Grand Anse ': 'Grande\\'Anse','Grand Tota ':'Grand Total','Centre ': 'Centre','Artibonite ':'Artibonite','Guest ': 'Guest','Nippes ':'Nippes','Nord ':'Nord','Nord-Est ': 'Nord-Est','Nord-Ouest ':'Nord-Ouest','Ouest ': 'Ouest','Sud ': 'Sud','Sud-Est ':'Sud-Est'}\n",
    "mspp_covid19_cases.departement=mspp_covid19_cases.departement.replace(replace_pattern)\n",
    "mspp_covid19_cases.to_csv('datasets/mspp_covid19_cases.csv')\n",
    ""
   ]
  },
  {
   "cell_type": "code",
   "execution_count": 67,
   "metadata": {},
   "outputs": [
    {
     "output_type": "execute_result",
     "data": {
      "text/plain": "   departement  cas_suspects  cas_confirmes  deces  taux_de_letalite  \\\n0   Artibonite            47              4      0               0.0   \n1       Centre            14              1      0               0.0   \n2  Grande'Anse             2              0      0               0.0   \n3       Nippes            16              2      0               0.0   \n4         Nord            28              0      0               0.0   \n\n  document_date  \n0    2020-04-15  \n1    2020-04-15  \n2    2020-04-15  \n3    2020-04-15  \n4    2020-04-15  ",
      "text/html": "<div>\n<style scoped>\n    .dataframe tbody tr th:only-of-type {\n        vertical-align: middle;\n    }\n\n    .dataframe tbody tr th {\n        vertical-align: top;\n    }\n\n    .dataframe thead th {\n        text-align: right;\n    }\n</style>\n<table border=\"1\" class=\"dataframe\">\n  <thead>\n    <tr style=\"text-align: right;\">\n      <th></th>\n      <th>departement</th>\n      <th>cas_suspects</th>\n      <th>cas_confirmes</th>\n      <th>deces</th>\n      <th>taux_de_letalite</th>\n      <th>document_date</th>\n    </tr>\n  </thead>\n  <tbody>\n    <tr>\n      <th>0</th>\n      <td>Artibonite</td>\n      <td>47</td>\n      <td>4</td>\n      <td>0</td>\n      <td>0.0</td>\n      <td>2020-04-15</td>\n    </tr>\n    <tr>\n      <th>1</th>\n      <td>Centre</td>\n      <td>14</td>\n      <td>1</td>\n      <td>0</td>\n      <td>0.0</td>\n      <td>2020-04-15</td>\n    </tr>\n    <tr>\n      <th>2</th>\n      <td>Grande'Anse</td>\n      <td>2</td>\n      <td>0</td>\n      <td>0</td>\n      <td>0.0</td>\n      <td>2020-04-15</td>\n    </tr>\n    <tr>\n      <th>3</th>\n      <td>Nippes</td>\n      <td>16</td>\n      <td>2</td>\n      <td>0</td>\n      <td>0.0</td>\n      <td>2020-04-15</td>\n    </tr>\n    <tr>\n      <th>4</th>\n      <td>Nord</td>\n      <td>28</td>\n      <td>0</td>\n      <td>0</td>\n      <td>0.0</td>\n      <td>2020-04-15</td>\n    </tr>\n  </tbody>\n</table>\n</div>"
     },
     "metadata": {},
     "execution_count": 67
    }
   ],
   "source": [
    "mspp_covid19_cases.head()"
   ]
  },
  {
   "cell_type": "code",
   "execution_count": 78,
   "metadata": {
    "tags": [
     "outputPrepend"
    ]
   },
   "outputs": [
    {
     "output_type": "execute_result",
     "data": {
      "text/plain": "[{'departement': 'Artibonite',\n  'cas_confirmes': 4,\n  'deces': 0,\n  'taux_de_letalite': 0.0,\n  'document_date': 1586908800000000000},\n {'departement': 'Centre',\n  'cas_confirmes': 1,\n  'deces': 0,\n  'taux_de_letalite': 0.0,\n  'document_date': 1586908800000000000},\n {'departement': \"Grande'Anse\",\n  'cas_confirmes': 0,\n  'deces': 0,\n  'taux_de_letalite': 0.0,\n  'document_date': 1586908800000000000},\n {'departement': 'Nippes',\n  'cas_confirmes': 2,\n  'deces': 0,\n  'taux_de_letalite': 0.0,\n  'document_date': 1586908800000000000},\n {'departement': 'Nord',\n  'cas_confirmes': 0,\n  'deces': 0,\n  'taux_de_letalite': 0.0,\n  'document_date': 1586908800000000000},\n {'departement': 'Nord-Est',\n  'cas_confirmes': 7,\n  'deces': 2,\n  'taux_de_letalite': 0.29,\n  'document_date': 1586908800000000000},\n {'departement': 'Nord-Ouest',\n  'cas_confirmes': 1,\n  'deces': 0,\n  'taux_de_letalite': 0.0,\n  'document_date': 1586908800000000000},\n {'departement': 'Ouest',\n  'cas_confirmes': 24,\n  'deces': 1,\n  'taux_de_letalite': 0.04,\n  'document_date': 1586908800000000000},\n {'departement': 'Sud',\n  'cas_confirmes': 0,\n  'deces': 0,\n  'taux_de_letalite': 0.0,\n  'document_date': 1586908800000000000},\n {'departement': 'Sud-Est',\n  'cas_confirmes': 4,\n  'deces': 0,\n  'taux_de_letalite': 0.0,\n  'document_date': 1586908800000000000},\n {'departement': 'Grand Total ',\n  'cas_confirmes': 43,\n  'deces': 3,\n  'taux_de_letalite': 0.07,\n  'document_date': 1586908800000000000},\n {'departement': 'Ouest',\n  'cas_confirmes': 24,\n  'deces': 1,\n  'taux_de_letalite': 0.04,\n  'document_date': 1586995200000000000},\n {'departement': 'Artibonite',\n  'cas_confirmes': 4,\n  'deces': 0,\n  'taux_de_letalite': 0.0,\n  'document_date': 1586995200000000000},\n {'departement': 'Nord-Est',\n  'cas_confirmes': 8,\n  'deces': 2,\n  'taux_de_letalite': 0.25,\n  'document_date': 1586995200000000000},\n {'departement': 'Sud-Est',\n  'cas_confirmes': 4,\n  'deces': 0,\n  'taux_de_letalite': 0.0,\n  'document_date': 1586995200000000000},\n {'departement': 'Nord',\n  'cas_confirmes': 0,\n  'deces': 0,\n  'taux_de_letalite': 0.0,\n  'document_date': 1586995200000000000},\n {'departement': 'Nippes',\n  'cas_confirmes': 2,\n  'deces': 0,\n  'taux_de_letalite': 0.0,\n  'document_date': 1586995200000000000},\n {'departement': 'Centre',\n  'cas_confirmes': 1,\n  'deces': 0,\n  'taux_de_letalite': 0.0,\n  'document_date': 1586995200000000000},\n {'departement': 'Sud',\n  'cas_confirmes': 0,\n  'deces': 0,\n  'taux_de_letalite': 0.0,\n  'document_date': 1586995200000000000},\n {'departement': 'Nord-Ouest',\n  'cas_confirmes': 1,\n  'deces': 0,\n  'taux_de_letalite': 0.0,\n  'document_date': 1586995200000000000},\n {'departement': \"Grande'Anse\",\n  'cas_confirmes': 0,\n  'deces': 0,\n  'taux_de_letalite': 0.0,\n  'document_date': 1586995200000000000},\n {'departement': 'Grand Total ',\n  'cas_confirmes': 44,\n  'deces': 3,\n  'taux_de_letalite': 0.07,\n  'document_date': 1586995200000000000},\n {'departement': 'Artibonite',\n  'cas_confirmes': 4,\n  'deces': 0,\n  'taux_de_letalite': 0.0,\n  'document_date': 1586822400000000000},\n {'departement': 'Centre',\n  'cas_confirmes': 1,\n  'deces': 0,\n  'taux_de_letalite': 0.0,\n  'document_date': 1586822400000000000},\n {'departement': \"Grande'Anse\",\n  'cas_confirmes': 0,\n  'deces': 0,\n  'taux_de_letalite': 0.0,\n  'document_date': 1586822400000000000},\n {'departement': 'Nippes',\n  'cas_confirmes': 2,\n  'deces': 0,\n  'taux_de_letalite': 0.0,\n  'document_date': 1586822400000000000},\n {'departement': 'Nord',\n  'cas_confirmes': 0,\n  'deces': 0,\n  'taux_de_letalite': 0.0,\n  'document_date': 1586822400000000000},\n {'departement': 'Nord-Est',\n  'cas_confirmes': 7,\n  'deces': 2,\n  'taux_de_letalite': 0.29,\n  'document_date': 1586822400000000000},\n {'departement': 'Nord-Ouest',\n  'cas_confirmes': 1,\n  'deces': 0,\n  'taux_de_letalite': 0.0,\n  'document_date': 1586822400000000000},\n {'departement': 'Ouest',\n  'cas_confirmes': 22,\n  'deces': 1,\n  'taux_de_letalite': 0.05,\n  'document_date': 1586822400000000000},\n {'departement': 'Sud',\n  'cas_confirmes': 0,\n  'deces': 0,\n  'taux_de_letalite': 0.0,\n  'document_date': 1586822400000000000},\n {'departement': 'Sud-Est',\n  'cas_confirmes': 4,\n  'deces': 0,\n  'taux_de_letalite': 0.0,\n  'document_date': 1586822400000000000},\n {'departement': 'Grand Total ',\n  'cas_confirmes': 41,\n  'deces': 3,\n  'taux_de_letalite': 0.07,\n  'document_date': 1586822400000000000},\n {'departement': 'Artibonite',\n  'cas_confirmes': 4,\n  'deces': 0,\n  'taux_de_letalite': 0.0,\n  'document_date': 1586736000000000000},\n {'departement': 'Centre',\n  'cas_confirmes': 1,\n  'deces': 0,\n  'taux_de_letalite': 0.0,\n  'document_date': 1586736000000000000},\n {'departement': \"Grande'Anse\",\n  'cas_confirmes': 0,\n  'deces': 0,\n  'taux_de_letalite': 0.0,\n  'document_date': 1586736000000000000},\n {'departement': 'Nippes',\n  'cas_confirmes': 2,\n  'deces': 0,\n  'taux_de_letalite': 0.0,\n  'document_date': 1586736000000000000},\n {'departement': 'Nord',\n  'cas_confirmes': 0,\n  'deces': 0,\n  'taux_de_letalite': 0.0,\n  'document_date': 1586736000000000000},\n {'departement': 'Nord-Est',\n  'cas_confirmes': 7,\n  'deces': 2,\n  'taux_de_letalite': 0.29,\n  'document_date': 1586736000000000000},\n {'departement': 'Nord-Ouest',\n  'cas_confirmes': 1,\n  'deces': 0,\n  'taux_de_letalite': 0.0,\n  'document_date': 1586736000000000000},\n {'departement': 'Ouest',\n  'cas_confirmes': 21,\n  'deces': 1,\n  'taux_de_letalite': 0.05,\n  'document_date': 1586736000000000000},\n {'departement': 'Sud',\n  'cas_confirmes': 0,\n  'deces': 0,\n  'taux_de_letalite': 0.0,\n  'document_date': 1586736000000000000},\n {'departement': 'Sud-Est',\n  'cas_confirmes': 4,\n  'deces': 0,\n  'taux_de_letalite': 0.0,\n  'document_date': 1586736000000000000},\n {'departement': 'Grand Total ',\n  'cas_confirmes': 40,\n  'deces': 3,\n  'taux_de_letalite': 0.08,\n  'document_date': 1586736000000000000},\n {'departement': 'Artibonite',\n  'cas_confirmes': 4,\n  'deces': 0,\n  'taux_de_letalite': 0.0,\n  'document_date': 1586649600000000000},\n {'departement': 'Centre',\n  'cas_confirmes': 1,\n  'deces': 0,\n  'taux_de_letalite': 0.0,\n  'document_date': 1586649600000000000},\n {'departement': \"Grande'Anse\",\n  'cas_confirmes': 0,\n  'deces': 0,\n  'taux_de_letalite': 0.0,\n  'document_date': 1586649600000000000},\n {'departement': 'Nippes',\n  'cas_confirmes': 2,\n  'deces': 0,\n  'taux_de_letalite': 0.0,\n  'document_date': 1586649600000000000},\n {'departement': 'Nord',\n  'cas_confirmes': 0,\n  'deces': 0,\n  'taux_de_letalite': 0.0,\n  'document_date': 1586649600000000000},\n {'departement': 'Nord-Est',\n  'cas_confirmes': 7,\n  'deces': 2,\n  'taux_de_letalite': 0.29,\n  'document_date': 1586649600000000000},\n {'departement': 'Nord-Ouest',\n  'cas_confirmes': 1,\n  'deces': 0,\n  'taux_de_letalite': 0.0,\n  'document_date': 1586649600000000000},\n {'departement': 'Ouest',\n  'cas_confirmes': 21,\n  'deces': 1,\n  'taux_de_letalite': 0.05,\n  'document_date': 1586649600000000000},\n {'departement': 'Sud',\n  'cas_confirmes': 0,\n  'deces': 0,\n  'taux_de_letalite': 0.0,\n  'document_date': 1586649600000000000},\n {'departement': 'Sud-Est',\n  'cas_confirmes': 4,\n  'deces': 0,\n  'taux_de_letalite': 0.0,\n  'document_date': 1586649600000000000},\n {'departement': 'Grand Total ',\n  'cas_confirmes': 40,\n  'deces': 3,\n  'taux_de_letalite': 0.08,\n  'document_date': 1586649600000000000},\n {'departement': 'Artibonite',\n  'cas_confirmes': 1,\n  'deces': 0,\n  'taux_de_letalite': 0.0,\n  'document_date': 1586476800000000000},\n {'departement': 'Centre',\n  'cas_confirmes': 1,\n  'deces': 0,\n  'taux_de_letalite': 0.0,\n  'document_date': 1586476800000000000},\n {'departement': \"Grande'Anse\",\n  'cas_confirmes': 0,\n  'deces': 0,\n  'taux_de_letalite': 0.0,\n  'document_date': 1586476800000000000},\n {'departement': 'Nippes',\n  'cas_confirmes': 2,\n  'deces': 0,\n  'taux_de_letalite': 0.0,\n  'document_date': 1586476800000000000},\n {'departement': 'Nord',\n  'cas_confirmes': 0,\n  'deces': 0,\n  'taux_de_letalite': 0.0,\n  'document_date': 1586476800000000000},\n {'departement': 'Nord-Est',\n  'cas_confirmes': 3,\n  'deces': 1,\n  'taux_de_letalite': 0.33,\n  'document_date': 1586476800000000000},\n {'departement': 'Nord-Ouest',\n  'cas_confirmes': 1,\n  'deces': 0,\n  'taux_de_letalite': 0.0,\n  'document_date': 1586476800000000000},\n {'departement': 'Ouest',\n  'cas_confirmes': 21,\n  'deces': 1,\n  'taux_de_letalite': 0.05,\n  'document_date': 1586476800000000000},\n {'departement': 'Sud',\n  'cas_confirmes': 0,\n  'deces': 0,\n  'taux_de_letalite': 0.0,\n  'document_date': 1586476800000000000},\n {'departement': 'Sud-Est',\n  'cas_confirmes': 4,\n  'deces': 0,\n  'taux_de_letalite': 0.0,\n  'document_date': 1586476800000000000},\n {'departement': 'Grand Total ',\n  'cas_confirmes': 33,\n  'deces': 2,\n  'taux_de_letalite': 0.06,\n  'document_date': 1586476800000000000},\n {'departement': 'Artibonite',\n  'cas_confirmes': 1,\n  'deces': 0,\n  'taux_de_letalite': 0.0,\n  'document_date': 1586390400000000000},\n {'departement': 'Centre',\n  'cas_confirmes': 1,\n  'deces': 0,\n  'taux_de_letalite': 0.0,\n  'document_date': 1586390400000000000},\n {'departement': \"Grande'Anse\",\n  'cas_confirmes': 0,\n  'deces': 0,\n  'taux_de_letalite': 0.0,\n  'document_date': 1586390400000000000},\n {'departement': 'Nippes',\n  'cas_confirmes': 2,\n  'deces': 0,\n  'taux_de_letalite': 0.0,\n  'document_date': 1586390400000000000},\n {'departement': 'Nord',\n  'cas_confirmes': 0,\n  'deces': 0,\n  'taux_de_letalite': 0.0,\n  'document_date': 1586390400000000000},\n {'departement': 'Nord-Est',\n  'cas_confirmes': 3,\n  'deces': 1,\n  'taux_de_letalite': 0.33,\n  'document_date': 1586390400000000000},\n {'departement': 'Nord-Ouest',\n  'cas_confirmes': 1,\n  'deces': 0,\n  'taux_de_letalite': 0.0,\n  'document_date': 1586390400000000000},\n {'departement': 'Guest',\n  'cas_confirmes': 19,\n  'deces': 1,\n  'taux_de_letalite': 0.05,\n  'document_date': 1586390400000000000},\n {'departement': 'Sud',\n  'cas_confirmes': 0,\n  'deces': 0,\n  'taux_de_letalite': 0.0,\n  'document_date': 1586390400000000000},\n {'departement': 'Sud-Est',\n  'cas_confirmes': 4,\n  'deces': 0,\n  'taux_de_letalite': 0.0,\n  'document_date': 1586390400000000000},\n {'departement': 'Grand Total ',\n  'cas_confirmes': 31,\n  'deces': 2,\n  'taux_de_letalite': 0.06,\n  'document_date': 1586390400000000000},\n {'departement': 'Artibonite',\n  'cas_confirmes': 1,\n  'deces': 0,\n  'taux_de_letalite': 0.0,\n  'document_date': 1586304000000000000},\n {'departement': 'Centre',\n  'cas_confirmes': 0,\n  'deces': 0,\n  'taux_de_letalite': 0.0,\n  'document_date': 1586304000000000000},\n {'departement': \"Grande'Anse\",\n  'cas_confirmes': 0,\n  'deces': 0,\n  'taux_de_letalite': 0.0,\n  'document_date': 1586304000000000000},\n {'departement': 'Nippes',\n  'cas_confirmes': 2,\n  'deces': 0,\n  'taux_de_letalite': 0.0,\n  'document_date': 1586304000000000000},\n {'departement': 'Nord',\n  'cas_confirmes': 0,\n  'deces': 0,\n  'taux_de_letalite': 0.0,\n  'document_date': 1586304000000000000},\n {'departement': 'Nord-Est',\n  'cas_confirmes': 3,\n  'deces': 1,\n  'taux_de_letalite': 0.33,\n  'document_date': 1586304000000000000},\n {'departement': 'Nord-Ouest',\n  'cas_confirmes': 1,\n  'deces': 0,\n  'taux_de_letalite': 0.0,\n  'document_date': 1586304000000000000},\n {'departement': 'Ouest',\n  'cas_confirmes': 19,\n  'deces': 1,\n  'taux_de_letalite': 0.05,\n  'document_date': 1586304000000000000},\n {'departement': 'Sud',\n  'cas_confirmes': 0,\n  'deces': 0,\n  'taux_de_letalite': 0.0,\n  'document_date': 1586304000000000000},\n {'departement': 'Sud-Est',\n  'cas_confirmes': 4,\n  'deces': 0,\n  'taux_de_letalite': 0.0,\n  'document_date': 1586304000000000000},\n {'departement': 'Grand Total ',\n  'cas_confirmes': 30,\n  'deces': 2,\n  'taux_de_letalite': 0.07,\n  'document_date': 1586304000000000000},\n {'departement': 'Artibonite',\n  'cas_confirmes': 1,\n  'deces': 0,\n  'taux_de_letalite': 0.0,\n  'document_date': 1586217600000000000},\n {'departement': 'Centre',\n  'cas_confirmes': 0,\n  'deces': 0,\n  'taux_de_letalite': 0.0,\n  'document_date': 1586217600000000000},\n {'departement': \"Grande'Anse\",\n  'cas_confirmes': 0,\n  'deces': 0,\n  'taux_de_letalite': 0.0,\n  'document_date': 1586217600000000000},\n {'departement': 'Nippes',\n  'cas_confirmes': 2,\n  'deces': 0,\n  'taux_de_letalite': 0.0,\n  'document_date': 1586217600000000000},\n {'departement': 'Nord',\n  'cas_confirmes': 0,\n  'deces': 0,\n  'taux_de_letalite': 0.0,\n  'document_date': 1586217600000000000},\n {'departement': 'Nord-Est',\n  'cas_confirmes': 1,\n  'deces': 0,\n  'taux_de_letalite': 0.0,\n  'document_date': 1586217600000000000},\n {'departement': 'Nord-Ouest',\n  'cas_confirmes': 1,\n  'deces': 0,\n  'taux_de_letalite': 0.0,\n  'document_date': 1586217600000000000},\n {'departement': 'Ouest',\n  'cas_confirmes': 18,\n  'deces': 1,\n  'taux_de_letalite': 0.06,\n  'document_date': 1586217600000000000},\n {'departement': 'Sud',\n  'cas_confirmes': 0,\n  'deces': 0,\n  'taux_de_letalite': 0.0,\n  'document_date': 1586217600000000000},\n {'departement': 'Sud-Est',\n  'cas_confirmes': 4,\n  'deces': 0,\n  'taux_de_letalite': 0.0,\n  'document_date': 1586217600000000000},\n {'departement': 'Grand Total',\n  'cas_confirmes': 27,\n  'deces': 1,\n  'taux_de_letalite': 0.04,\n  'document_date': 1586217600000000000}]"
     },
     "metadata": {},
     "execution_count": 78
    }
   ],
   "source": [
    "my_list = []\n",
    "for _,row in mspp_covid19_cases.iterrows():\n",
    "    my_list.append(dict(departement\t= row['departement'],cas_confirmes=row['cas_confirmes'],deces = row['deces'],taux_de_letalite = row['taux_de_letalite'],document_date =row['document_date'].value))\n",
    "my_list"
   ]
  },
  {
   "cell_type": "code",
   "execution_count": 85,
   "metadata": {},
   "outputs": [],
   "source": [
    "def get_all_dept():\n",
    "   mspp_covid19_cases = pd.read_csv('datasets/mspp_covid19_cases.csv')\n",
    "   my_list = []\n",
    "   for _,row in mspp_covid19_cases.iterrows():\n",
    "    my_list.append(dict(departement\t= row['departement'],cas_confirmes=row['cas_confirmes'],deces = row['deces'],taux_de_letalite = row['taux_de_letalite'],document_date =row['document_date']))\n",
    "   my_list\n",
    "   return my_list\n",
    ""
   ]
  },
  {
   "cell_type": "code",
   "execution_count": 86,
   "metadata": {},
   "outputs": [
    {
     "output_type": "execute_result",
     "data": {
      "text/plain": "[{'departement': 'Artibonite',\n  'cas_confirmes': 4,\n  'deces': 0,\n  'taux_de_letalite': 0.0,\n  'document_date': '2020-04-15'},\n {'departement': 'Centre',\n  'cas_confirmes': 1,\n  'deces': 0,\n  'taux_de_letalite': 0.0,\n  'document_date': '2020-04-15'},\n {'departement': \"Grande'Anse\",\n  'cas_confirmes': 0,\n  'deces': 0,\n  'taux_de_letalite': 0.0,\n  'document_date': '2020-04-15'},\n {'departement': 'Nippes',\n  'cas_confirmes': 2,\n  'deces': 0,\n  'taux_de_letalite': 0.0,\n  'document_date': '2020-04-15'},\n {'departement': 'Nord',\n  'cas_confirmes': 0,\n  'deces': 0,\n  'taux_de_letalite': 0.0,\n  'document_date': '2020-04-15'},\n {'departement': 'Nord-Est',\n  'cas_confirmes': 7,\n  'deces': 2,\n  'taux_de_letalite': 0.29,\n  'document_date': '2020-04-15'},\n {'departement': 'Nord-Ouest',\n  'cas_confirmes': 1,\n  'deces': 0,\n  'taux_de_letalite': 0.0,\n  'document_date': '2020-04-15'},\n {'departement': 'Ouest',\n  'cas_confirmes': 24,\n  'deces': 1,\n  'taux_de_letalite': 0.04,\n  'document_date': '2020-04-15'},\n {'departement': 'Sud',\n  'cas_confirmes': 0,\n  'deces': 0,\n  'taux_de_letalite': 0.0,\n  'document_date': '2020-04-15'},\n {'departement': 'Sud-Est',\n  'cas_confirmes': 4,\n  'deces': 0,\n  'taux_de_letalite': 0.0,\n  'document_date': '2020-04-15'},\n {'departement': 'Grand Total ',\n  'cas_confirmes': 43,\n  'deces': 3,\n  'taux_de_letalite': 0.07,\n  'document_date': '2020-04-15'},\n {'departement': 'Ouest',\n  'cas_confirmes': 24,\n  'deces': 1,\n  'taux_de_letalite': 0.04,\n  'document_date': '2020-04-16'},\n {'departement': 'Artibonite',\n  'cas_confirmes': 4,\n  'deces': 0,\n  'taux_de_letalite': 0.0,\n  'document_date': '2020-04-16'},\n {'departement': 'Nord-Est',\n  'cas_confirmes': 8,\n  'deces': 2,\n  'taux_de_letalite': 0.25,\n  'document_date': '2020-04-16'},\n {'departement': 'Sud-Est',\n  'cas_confirmes': 4,\n  'deces': 0,\n  'taux_de_letalite': 0.0,\n  'document_date': '2020-04-16'},\n {'departement': 'Nord',\n  'cas_confirmes': 0,\n  'deces': 0,\n  'taux_de_letalite': 0.0,\n  'document_date': '2020-04-16'},\n {'departement': 'Nippes',\n  'cas_confirmes': 2,\n  'deces': 0,\n  'taux_de_letalite': 0.0,\n  'document_date': '2020-04-16'},\n {'departement': 'Centre',\n  'cas_confirmes': 1,\n  'deces': 0,\n  'taux_de_letalite': 0.0,\n  'document_date': '2020-04-16'},\n {'departement': 'Sud',\n  'cas_confirmes': 0,\n  'deces': 0,\n  'taux_de_letalite': 0.0,\n  'document_date': '2020-04-16'},\n {'departement': 'Nord-Ouest',\n  'cas_confirmes': 1,\n  'deces': 0,\n  'taux_de_letalite': 0.0,\n  'document_date': '2020-04-16'},\n {'departement': \"Grande'Anse\",\n  'cas_confirmes': 0,\n  'deces': 0,\n  'taux_de_letalite': 0.0,\n  'document_date': '2020-04-16'},\n {'departement': 'Grand Total ',\n  'cas_confirmes': 44,\n  'deces': 3,\n  'taux_de_letalite': 0.07,\n  'document_date': '2020-04-16'},\n {'departement': 'Artibonite',\n  'cas_confirmes': 4,\n  'deces': 0,\n  'taux_de_letalite': 0.0,\n  'document_date': '2020-04-14'},\n {'departement': 'Centre',\n  'cas_confirmes': 1,\n  'deces': 0,\n  'taux_de_letalite': 0.0,\n  'document_date': '2020-04-14'},\n {'departement': \"Grande'Anse\",\n  'cas_confirmes': 0,\n  'deces': 0,\n  'taux_de_letalite': 0.0,\n  'document_date': '2020-04-14'},\n {'departement': 'Nippes',\n  'cas_confirmes': 2,\n  'deces': 0,\n  'taux_de_letalite': 0.0,\n  'document_date': '2020-04-14'},\n {'departement': 'Nord',\n  'cas_confirmes': 0,\n  'deces': 0,\n  'taux_de_letalite': 0.0,\n  'document_date': '2020-04-14'},\n {'departement': 'Nord-Est',\n  'cas_confirmes': 7,\n  'deces': 2,\n  'taux_de_letalite': 0.29,\n  'document_date': '2020-04-14'},\n {'departement': 'Nord-Ouest',\n  'cas_confirmes': 1,\n  'deces': 0,\n  'taux_de_letalite': 0.0,\n  'document_date': '2020-04-14'},\n {'departement': 'Ouest',\n  'cas_confirmes': 22,\n  'deces': 1,\n  'taux_de_letalite': 0.05,\n  'document_date': '2020-04-14'},\n {'departement': 'Sud',\n  'cas_confirmes': 0,\n  'deces': 0,\n  'taux_de_letalite': 0.0,\n  'document_date': '2020-04-14'},\n {'departement': 'Sud-Est',\n  'cas_confirmes': 4,\n  'deces': 0,\n  'taux_de_letalite': 0.0,\n  'document_date': '2020-04-14'},\n {'departement': 'Grand Total ',\n  'cas_confirmes': 41,\n  'deces': 3,\n  'taux_de_letalite': 0.07,\n  'document_date': '2020-04-14'},\n {'departement': 'Artibonite',\n  'cas_confirmes': 4,\n  'deces': 0,\n  'taux_de_letalite': 0.0,\n  'document_date': '2020-04-13'},\n {'departement': 'Centre',\n  'cas_confirmes': 1,\n  'deces': 0,\n  'taux_de_letalite': 0.0,\n  'document_date': '2020-04-13'},\n {'departement': \"Grande'Anse\",\n  'cas_confirmes': 0,\n  'deces': 0,\n  'taux_de_letalite': 0.0,\n  'document_date': '2020-04-13'},\n {'departement': 'Nippes',\n  'cas_confirmes': 2,\n  'deces': 0,\n  'taux_de_letalite': 0.0,\n  'document_date': '2020-04-13'},\n {'departement': 'Nord',\n  'cas_confirmes': 0,\n  'deces': 0,\n  'taux_de_letalite': 0.0,\n  'document_date': '2020-04-13'},\n {'departement': 'Nord-Est',\n  'cas_confirmes': 7,\n  'deces': 2,\n  'taux_de_letalite': 0.29,\n  'document_date': '2020-04-13'},\n {'departement': 'Nord-Ouest',\n  'cas_confirmes': 1,\n  'deces': 0,\n  'taux_de_letalite': 0.0,\n  'document_date': '2020-04-13'},\n {'departement': 'Ouest',\n  'cas_confirmes': 21,\n  'deces': 1,\n  'taux_de_letalite': 0.05,\n  'document_date': '2020-04-13'},\n {'departement': 'Sud',\n  'cas_confirmes': 0,\n  'deces': 0,\n  'taux_de_letalite': 0.0,\n  'document_date': '2020-04-13'},\n {'departement': 'Sud-Est',\n  'cas_confirmes': 4,\n  'deces': 0,\n  'taux_de_letalite': 0.0,\n  'document_date': '2020-04-13'},\n {'departement': 'Grand Total ',\n  'cas_confirmes': 40,\n  'deces': 3,\n  'taux_de_letalite': 0.08,\n  'document_date': '2020-04-13'},\n {'departement': 'Artibonite',\n  'cas_confirmes': 4,\n  'deces': 0,\n  'taux_de_letalite': 0.0,\n  'document_date': '2020-04-12'},\n {'departement': 'Centre',\n  'cas_confirmes': 1,\n  'deces': 0,\n  'taux_de_letalite': 0.0,\n  'document_date': '2020-04-12'},\n {'departement': \"Grande'Anse\",\n  'cas_confirmes': 0,\n  'deces': 0,\n  'taux_de_letalite': 0.0,\n  'document_date': '2020-04-12'},\n {'departement': 'Nippes',\n  'cas_confirmes': 2,\n  'deces': 0,\n  'taux_de_letalite': 0.0,\n  'document_date': '2020-04-12'},\n {'departement': 'Nord',\n  'cas_confirmes': 0,\n  'deces': 0,\n  'taux_de_letalite': 0.0,\n  'document_date': '2020-04-12'},\n {'departement': 'Nord-Est',\n  'cas_confirmes': 7,\n  'deces': 2,\n  'taux_de_letalite': 0.29,\n  'document_date': '2020-04-12'},\n {'departement': 'Nord-Ouest',\n  'cas_confirmes': 1,\n  'deces': 0,\n  'taux_de_letalite': 0.0,\n  'document_date': '2020-04-12'},\n {'departement': 'Ouest',\n  'cas_confirmes': 21,\n  'deces': 1,\n  'taux_de_letalite': 0.05,\n  'document_date': '2020-04-12'},\n {'departement': 'Sud',\n  'cas_confirmes': 0,\n  'deces': 0,\n  'taux_de_letalite': 0.0,\n  'document_date': '2020-04-12'},\n {'departement': 'Sud-Est',\n  'cas_confirmes': 4,\n  'deces': 0,\n  'taux_de_letalite': 0.0,\n  'document_date': '2020-04-12'},\n {'departement': 'Grand Total ',\n  'cas_confirmes': 40,\n  'deces': 3,\n  'taux_de_letalite': 0.08,\n  'document_date': '2020-04-12'},\n {'departement': 'Artibonite',\n  'cas_confirmes': 1,\n  'deces': 0,\n  'taux_de_letalite': 0.0,\n  'document_date': '2020-04-10'},\n {'departement': 'Centre',\n  'cas_confirmes': 1,\n  'deces': 0,\n  'taux_de_letalite': 0.0,\n  'document_date': '2020-04-10'},\n {'departement': \"Grande'Anse\",\n  'cas_confirmes': 0,\n  'deces': 0,\n  'taux_de_letalite': 0.0,\n  'document_date': '2020-04-10'},\n {'departement': 'Nippes',\n  'cas_confirmes': 2,\n  'deces': 0,\n  'taux_de_letalite': 0.0,\n  'document_date': '2020-04-10'},\n {'departement': 'Nord',\n  'cas_confirmes': 0,\n  'deces': 0,\n  'taux_de_letalite': 0.0,\n  'document_date': '2020-04-10'},\n {'departement': 'Nord-Est',\n  'cas_confirmes': 3,\n  'deces': 1,\n  'taux_de_letalite': 0.33,\n  'document_date': '2020-04-10'},\n {'departement': 'Nord-Ouest',\n  'cas_confirmes': 1,\n  'deces': 0,\n  'taux_de_letalite': 0.0,\n  'document_date': '2020-04-10'},\n {'departement': 'Ouest',\n  'cas_confirmes': 21,\n  'deces': 1,\n  'taux_de_letalite': 0.05,\n  'document_date': '2020-04-10'},\n {'departement': 'Sud',\n  'cas_confirmes': 0,\n  'deces': 0,\n  'taux_de_letalite': 0.0,\n  'document_date': '2020-04-10'},\n {'departement': 'Sud-Est',\n  'cas_confirmes': 4,\n  'deces': 0,\n  'taux_de_letalite': 0.0,\n  'document_date': '2020-04-10'},\n {'departement': 'Grand Total ',\n  'cas_confirmes': 33,\n  'deces': 2,\n  'taux_de_letalite': 0.06,\n  'document_date': '2020-04-10'},\n {'departement': 'Artibonite',\n  'cas_confirmes': 1,\n  'deces': 0,\n  'taux_de_letalite': 0.0,\n  'document_date': '2020-04-09'},\n {'departement': 'Centre',\n  'cas_confirmes': 1,\n  'deces': 0,\n  'taux_de_letalite': 0.0,\n  'document_date': '2020-04-09'},\n {'departement': \"Grande'Anse\",\n  'cas_confirmes': 0,\n  'deces': 0,\n  'taux_de_letalite': 0.0,\n  'document_date': '2020-04-09'},\n {'departement': 'Nippes',\n  'cas_confirmes': 2,\n  'deces': 0,\n  'taux_de_letalite': 0.0,\n  'document_date': '2020-04-09'},\n {'departement': 'Nord',\n  'cas_confirmes': 0,\n  'deces': 0,\n  'taux_de_letalite': 0.0,\n  'document_date': '2020-04-09'},\n {'departement': 'Nord-Est',\n  'cas_confirmes': 3,\n  'deces': 1,\n  'taux_de_letalite': 0.33,\n  'document_date': '2020-04-09'},\n {'departement': 'Nord-Ouest',\n  'cas_confirmes': 1,\n  'deces': 0,\n  'taux_de_letalite': 0.0,\n  'document_date': '2020-04-09'},\n {'departement': 'Guest',\n  'cas_confirmes': 19,\n  'deces': 1,\n  'taux_de_letalite': 0.05,\n  'document_date': '2020-04-09'},\n {'departement': 'Sud',\n  'cas_confirmes': 0,\n  'deces': 0,\n  'taux_de_letalite': 0.0,\n  'document_date': '2020-04-09'},\n {'departement': 'Sud-Est',\n  'cas_confirmes': 4,\n  'deces': 0,\n  'taux_de_letalite': 0.0,\n  'document_date': '2020-04-09'},\n {'departement': 'Grand Total ',\n  'cas_confirmes': 31,\n  'deces': 2,\n  'taux_de_letalite': 0.06,\n  'document_date': '2020-04-09'},\n {'departement': 'Artibonite',\n  'cas_confirmes': 1,\n  'deces': 0,\n  'taux_de_letalite': 0.0,\n  'document_date': '2020-04-08'},\n {'departement': 'Centre',\n  'cas_confirmes': 0,\n  'deces': 0,\n  'taux_de_letalite': 0.0,\n  'document_date': '2020-04-08'},\n {'departement': \"Grande'Anse\",\n  'cas_confirmes': 0,\n  'deces': 0,\n  'taux_de_letalite': 0.0,\n  'document_date': '2020-04-08'},\n {'departement': 'Nippes',\n  'cas_confirmes': 2,\n  'deces': 0,\n  'taux_de_letalite': 0.0,\n  'document_date': '2020-04-08'},\n {'departement': 'Nord',\n  'cas_confirmes': 0,\n  'deces': 0,\n  'taux_de_letalite': 0.0,\n  'document_date': '2020-04-08'},\n {'departement': 'Nord-Est',\n  'cas_confirmes': 3,\n  'deces': 1,\n  'taux_de_letalite': 0.33,\n  'document_date': '2020-04-08'},\n {'departement': 'Nord-Ouest',\n  'cas_confirmes': 1,\n  'deces': 0,\n  'taux_de_letalite': 0.0,\n  'document_date': '2020-04-08'},\n {'departement': 'Ouest',\n  'cas_confirmes': 19,\n  'deces': 1,\n  'taux_de_letalite': 0.05,\n  'document_date': '2020-04-08'},\n {'departement': 'Sud',\n  'cas_confirmes': 0,\n  'deces': 0,\n  'taux_de_letalite': 0.0,\n  'document_date': '2020-04-08'},\n {'departement': 'Sud-Est',\n  'cas_confirmes': 4,\n  'deces': 0,\n  'taux_de_letalite': 0.0,\n  'document_date': '2020-04-08'},\n {'departement': 'Grand Total ',\n  'cas_confirmes': 30,\n  'deces': 2,\n  'taux_de_letalite': 0.07,\n  'document_date': '2020-04-08'},\n {'departement': 'Artibonite',\n  'cas_confirmes': 1,\n  'deces': 0,\n  'taux_de_letalite': 0.0,\n  'document_date': '2020-04-07'},\n {'departement': 'Centre',\n  'cas_confirmes': 0,\n  'deces': 0,\n  'taux_de_letalite': 0.0,\n  'document_date': '2020-04-07'},\n {'departement': \"Grande'Anse\",\n  'cas_confirmes': 0,\n  'deces': 0,\n  'taux_de_letalite': 0.0,\n  'document_date': '2020-04-07'},\n {'departement': 'Nippes',\n  'cas_confirmes': 2,\n  'deces': 0,\n  'taux_de_letalite': 0.0,\n  'document_date': '2020-04-07'},\n {'departement': 'Nord',\n  'cas_confirmes': 0,\n  'deces': 0,\n  'taux_de_letalite': 0.0,\n  'document_date': '2020-04-07'},\n {'departement': 'Nord-Est',\n  'cas_confirmes': 1,\n  'deces': 0,\n  'taux_de_letalite': 0.0,\n  'document_date': '2020-04-07'},\n {'departement': 'Nord-Ouest',\n  'cas_confirmes': 1,\n  'deces': 0,\n  'taux_de_letalite': 0.0,\n  'document_date': '2020-04-07'},\n {'departement': 'Ouest',\n  'cas_confirmes': 18,\n  'deces': 1,\n  'taux_de_letalite': 0.06,\n  'document_date': '2020-04-07'},\n {'departement': 'Sud',\n  'cas_confirmes': 0,\n  'deces': 0,\n  'taux_de_letalite': 0.0,\n  'document_date': '2020-04-07'},\n {'departement': 'Sud-Est',\n  'cas_confirmes': 4,\n  'deces': 0,\n  'taux_de_letalite': 0.0,\n  'document_date': '2020-04-07'},\n {'departement': 'Grand Total',\n  'cas_confirmes': 27,\n  'deces': 1,\n  'taux_de_letalite': 0.04,\n  'document_date': '2020-04-07'}]"
     },
     "metadata": {},
     "execution_count": 86
    }
   ],
   "source": [
    "get_all_dept()"
   ]
  },
  {
   "cell_type": "code",
   "execution_count": 5,
   "metadata": {},
   "outputs": [],
   "source": [
    "import pandas as pd"
   ]
  },
  {
   "cell_type": "code",
   "execution_count": 6,
   "metadata": {},
   "outputs": [],
   "source": [
    "tranlator = pd.read_csv('translation/translate1.csv')"
   ]
  },
  {
   "cell_type": "code",
   "execution_count": 15,
   "metadata": {},
   "outputs": [],
   "source": [
    "tranlator.set_index('name',inplace =True)"
   ]
  },
  {
   "cell_type": "code",
   "execution_count": 17,
   "metadata": {},
   "outputs": [],
   "source": [
    "tranlator.to_json('translation/translator.json')"
   ]
  },
  {
   "cell_type": "code",
   "execution_count": 18,
   "metadata": {},
   "outputs": [
    {
     "output_type": "execute_result",
     "data": {
      "text/plain": "                                                                            en  \\\nname                                                                             \nsite_name                                             Health Systems Dashboard   \nhome                                                                      Home   \nmap                                                            Interactive Map   \ndashboard                                                            Dashboard   \ntotal_site                                         Number of Health Facilities   \ndept                                                                Department   \ncom                                                                    Commune   \nall_sites                                              Total Health Facilities   \nhospital                                                              Hospital   \nfac_with_bed                                            Health Center With Bed   \nfac_without_bed                                      Health Center Without Bed   \ndispensary                                                          Dispensary   \ntable_tilte                    Number of health facilities\\n per 10,000 people   \ndepartement                                                         Department   \nhealth_fac                                                                 NaN   \npopulation                                                          Population   \ndensity                                Health Facilities per 10,000 population   \nlegend_title                                   Number of health facilities per   \nbutton_1_text                                                           Submit   \nbutton_2_text                                                        Reset map   \nright                                   All rights reserved to Ayiti Analytics   \nPurpose                      This tool exists to provide reliable informati...   \nPurpose1                     The health systems dashboard \\ngenerates relia...   \nPurspose2                    The number of health facilities (countrywide a...   \nPurspose3                                The number of hospital beds available   \nDefinitions                  In the tool, you’ll also find Health Care Faci...   \nDefinitions1                                            Health Care Facilities   \nDefinitions1.1                                                        With Bed   \nDefinitions1.2                                                     Without Bed   \nDefinitions1.3                                                        Hospital   \nDefinitions1.4                                                          Clinic   \nDefinitions2                                    Health Care Facilities by type   \nDefinitions2.1                                                         Private   \nDefinitions2.3                                        Mixed Private and Public   \nDefinitions2.4                                         NGO Heath Care Facility   \nDefinitions3                 You will also find resource availability relat...   \nDefinitions3.1                   Number of health facilities per 10,000 people   \nDefinitions3.2               Number of in-patient beds available per 10,000...   \nDefinitions3.3               Number of core health workers available per 10...   \nDatasources                  Facility data are reported from the 2017-2018 ...   \nDataStrengthsandLimitations  The Demographic and Health Survey interviewers...   \nRight                                                                      NaN   \ntooltip_dep                                                        Departement   \ntooltip_com                                                            Commune   \n\n                                                                            kr  \\\nname                                                                             \nsite_name                                                      Zouti Laswenyaj   \nhome                                                                  Paj Akèy   \nmap                                                             Kat entèraktif   \ndashboard                                                                Tablo   \ntotal_site                                                  Kantite sant sante   \ndept                                                                  Depatman   \ncom                                                                      Komin   \nall_sites                                                   Tout Sant Sante yo   \nhospital                                                               Lopital   \nfac_with_bed                                            Sant sante avèk Kabann   \nfac_without_bed                                         Sant  sante san kabann   \ndispensary                                                            Dispansè   \ntable_tilte                           Tablo dansite sant sante pou 10 000 moun   \ndepartement                                                           Depatman   \nhealth_fac                                                  Kantite sant sante   \npopulation                                                          Popilasyon   \ndensity                                             Sant sante pou 10,000 moun   \nlegend_title                                        Distribisyon sant sante pa   \nbutton_1_text                                                            Lanse   \nbutton_2_text                                                   relanse kat la   \nright                                          Ayiti Analytics rezève tout dwa   \nPurpose                      Ayiti Analytics devlope Zouti sila nan objekti...   \nPurpose1                     Zouti sila pèmèt nou jwenn pou yon popilasyon ...   \nPurspose2                                Gwosè ak kantite sant sante ki genyen   \nPurspose3                                     Kantite kabann lopital ki genyen   \nDefinitions                               Resous ak jefò laswenyaj ki disponib   \nDefinitions1                               Definisyon sant ki bay laswenyaj yo   \nDefinitions1.1                      Sant sante ki bay laswenyaj yo divize an :   \nDefinitions1.2                                          Sant sante pa kategori   \nDefinitions1.3                                                         Lopital   \nDefinitions1.4                                                      Sant sante   \nDefinitions2                                                 Sant sante pa tip   \nDefinitions2.1                                                Sant sante prive   \nDefinitions2.3                                  Sant sant mixte (prive + leta)   \nDefinitions2.4                                               Sant sante ONG yo   \nDefinitions3                 Avèk tout infòmasyon sila yo nou kakile kijan ...   \nDefinitions3.1               Kantite sant sante pou 10 000 moun nan lokalit...   \nDefinitions3.2                  Kantite kabann pou 10 000 moun nan lokalite yo   \nDefinitions3.3               Kantite pwofesyonel sante pou 10 000 moun nan ...   \nDatasources                  Sous done sa yo repòte nan resansman nan ane 2...   \nDataStrengthsandLimitations  Institut Haïtien de l’Enfance IHE and ICF. 201...   \nRight                        Ayiti Analytics rezève tout dwa © pou travay sila   \ntooltip_dep                                                           Depatman   \ntooltip_com                                                              Komin   \n\n                             fr  \nname                             \nsite_name                   NaN  \nhome                        NaN  \nmap                         NaN  \ndashboard                   NaN  \ntotal_site                  NaN  \ndept                        NaN  \ncom                         NaN  \nall_sites                   NaN  \nhospital                    NaN  \nfac_with_bed                NaN  \nfac_without_bed             NaN  \ndispensary                  NaN  \ntable_tilte                 NaN  \ndepartement                 NaN  \nhealth_fac                  NaN  \npopulation                  NaN  \ndensity                     NaN  \nlegend_title                NaN  \nbutton_1_text               NaN  \nbutton_2_text               NaN  \nright                       NaN  \nPurpose                     NaN  \nPurpose1                    NaN  \nPurspose2                   NaN  \nPurspose3                   NaN  \nDefinitions                 NaN  \nDefinitions1                NaN  \nDefinitions1.1              NaN  \nDefinitions1.2              NaN  \nDefinitions1.3              NaN  \nDefinitions1.4              NaN  \nDefinitions2                NaN  \nDefinitions2.1              NaN  \nDefinitions2.3              NaN  \nDefinitions2.4              NaN  \nDefinitions3                NaN  \nDefinitions3.1              NaN  \nDefinitions3.2              NaN  \nDefinitions3.3              NaN  \nDatasources                 NaN  \nDataStrengthsandLimitations NaN  \nRight                       NaN  \ntooltip_dep                 NaN  \ntooltip_com                 NaN  ",
      "text/html": "<div>\n<style scoped>\n    .dataframe tbody tr th:only-of-type {\n        vertical-align: middle;\n    }\n\n    .dataframe tbody tr th {\n        vertical-align: top;\n    }\n\n    .dataframe thead th {\n        text-align: right;\n    }\n</style>\n<table border=\"1\" class=\"dataframe\">\n  <thead>\n    <tr style=\"text-align: right;\">\n      <th></th>\n      <th>en</th>\n      <th>kr</th>\n      <th>fr</th>\n    </tr>\n    <tr>\n      <th>name</th>\n      <th></th>\n      <th></th>\n      <th></th>\n    </tr>\n  </thead>\n  <tbody>\n    <tr>\n      <th>site_name</th>\n      <td>Health Systems Dashboard</td>\n      <td>Zouti Laswenyaj</td>\n      <td>NaN</td>\n    </tr>\n    <tr>\n      <th>home</th>\n      <td>Home</td>\n      <td>Paj Akèy</td>\n      <td>NaN</td>\n    </tr>\n    <tr>\n      <th>map</th>\n      <td>Interactive Map</td>\n      <td>Kat entèraktif</td>\n      <td>NaN</td>\n    </tr>\n    <tr>\n      <th>dashboard</th>\n      <td>Dashboard</td>\n      <td>Tablo</td>\n      <td>NaN</td>\n    </tr>\n    <tr>\n      <th>total_site</th>\n      <td>Number of Health Facilities</td>\n      <td>Kantite sant sante</td>\n      <td>NaN</td>\n    </tr>\n    <tr>\n      <th>dept</th>\n      <td>Department</td>\n      <td>Depatman</td>\n      <td>NaN</td>\n    </tr>\n    <tr>\n      <th>com</th>\n      <td>Commune</td>\n      <td>Komin</td>\n      <td>NaN</td>\n    </tr>\n    <tr>\n      <th>all_sites</th>\n      <td>Total Health Facilities</td>\n      <td>Tout Sant Sante yo</td>\n      <td>NaN</td>\n    </tr>\n    <tr>\n      <th>hospital</th>\n      <td>Hospital</td>\n      <td>Lopital</td>\n      <td>NaN</td>\n    </tr>\n    <tr>\n      <th>fac_with_bed</th>\n      <td>Health Center With Bed</td>\n      <td>Sant sante avèk Kabann</td>\n      <td>NaN</td>\n    </tr>\n    <tr>\n      <th>fac_without_bed</th>\n      <td>Health Center Without Bed</td>\n      <td>Sant  sante san kabann</td>\n      <td>NaN</td>\n    </tr>\n    <tr>\n      <th>dispensary</th>\n      <td>Dispensary</td>\n      <td>Dispansè</td>\n      <td>NaN</td>\n    </tr>\n    <tr>\n      <th>table_tilte</th>\n      <td>Number of health facilities\\n per 10,000 people</td>\n      <td>Tablo dansite sant sante pou 10 000 moun</td>\n      <td>NaN</td>\n    </tr>\n    <tr>\n      <th>departement</th>\n      <td>Department</td>\n      <td>Depatman</td>\n      <td>NaN</td>\n    </tr>\n    <tr>\n      <th>health_fac</th>\n      <td>NaN</td>\n      <td>Kantite sant sante</td>\n      <td>NaN</td>\n    </tr>\n    <tr>\n      <th>population</th>\n      <td>Population</td>\n      <td>Popilasyon</td>\n      <td>NaN</td>\n    </tr>\n    <tr>\n      <th>density</th>\n      <td>Health Facilities per 10,000 population</td>\n      <td>Sant sante pou 10,000 moun</td>\n      <td>NaN</td>\n    </tr>\n    <tr>\n      <th>legend_title</th>\n      <td>Number of health facilities per</td>\n      <td>Distribisyon sant sante pa</td>\n      <td>NaN</td>\n    </tr>\n    <tr>\n      <th>button_1_text</th>\n      <td>Submit</td>\n      <td>Lanse</td>\n      <td>NaN</td>\n    </tr>\n    <tr>\n      <th>button_2_text</th>\n      <td>Reset map</td>\n      <td>relanse kat la</td>\n      <td>NaN</td>\n    </tr>\n    <tr>\n      <th>right</th>\n      <td>All rights reserved to Ayiti Analytics</td>\n      <td>Ayiti Analytics rezève tout dwa</td>\n      <td>NaN</td>\n    </tr>\n    <tr>\n      <th>Purpose</th>\n      <td>This tool exists to provide reliable informati...</td>\n      <td>Ayiti Analytics devlope Zouti sila nan objekti...</td>\n      <td>NaN</td>\n    </tr>\n    <tr>\n      <th>Purpose1</th>\n      <td>The health systems dashboard \\ngenerates relia...</td>\n      <td>Zouti sila pèmèt nou jwenn pou yon popilasyon ...</td>\n      <td>NaN</td>\n    </tr>\n    <tr>\n      <th>Purspose2</th>\n      <td>The number of health facilities (countrywide a...</td>\n      <td>Gwosè ak kantite sant sante ki genyen</td>\n      <td>NaN</td>\n    </tr>\n    <tr>\n      <th>Purspose3</th>\n      <td>The number of hospital beds available</td>\n      <td>Kantite kabann lopital ki genyen</td>\n      <td>NaN</td>\n    </tr>\n    <tr>\n      <th>Definitions</th>\n      <td>In the tool, you’ll also find Health Care Faci...</td>\n      <td>Resous ak jefò laswenyaj ki disponib</td>\n      <td>NaN</td>\n    </tr>\n    <tr>\n      <th>Definitions1</th>\n      <td>Health Care Facilities</td>\n      <td>Definisyon sant ki bay laswenyaj yo</td>\n      <td>NaN</td>\n    </tr>\n    <tr>\n      <th>Definitions1.1</th>\n      <td>With Bed</td>\n      <td>Sant sante ki bay laswenyaj yo divize an :</td>\n      <td>NaN</td>\n    </tr>\n    <tr>\n      <th>Definitions1.2</th>\n      <td>Without Bed</td>\n      <td>Sant sante pa kategori</td>\n      <td>NaN</td>\n    </tr>\n    <tr>\n      <th>Definitions1.3</th>\n      <td>Hospital</td>\n      <td>Lopital</td>\n      <td>NaN</td>\n    </tr>\n    <tr>\n      <th>Definitions1.4</th>\n      <td>Clinic</td>\n      <td>Sant sante</td>\n      <td>NaN</td>\n    </tr>\n    <tr>\n      <th>Definitions2</th>\n      <td>Health Care Facilities by type</td>\n      <td>Sant sante pa tip</td>\n      <td>NaN</td>\n    </tr>\n    <tr>\n      <th>Definitions2.1</th>\n      <td>Private</td>\n      <td>Sant sante prive</td>\n      <td>NaN</td>\n    </tr>\n    <tr>\n      <th>Definitions2.3</th>\n      <td>Mixed Private and Public</td>\n      <td>Sant sant mixte (prive + leta)</td>\n      <td>NaN</td>\n    </tr>\n    <tr>\n      <th>Definitions2.4</th>\n      <td>NGO Heath Care Facility</td>\n      <td>Sant sante ONG yo</td>\n      <td>NaN</td>\n    </tr>\n    <tr>\n      <th>Definitions3</th>\n      <td>You will also find resource availability relat...</td>\n      <td>Avèk tout infòmasyon sila yo nou kakile kijan ...</td>\n      <td>NaN</td>\n    </tr>\n    <tr>\n      <th>Definitions3.1</th>\n      <td>Number of health facilities per 10,000 people</td>\n      <td>Kantite sant sante pou 10 000 moun nan lokalit...</td>\n      <td>NaN</td>\n    </tr>\n    <tr>\n      <th>Definitions3.2</th>\n      <td>Number of in-patient beds available per 10,000...</td>\n      <td>Kantite kabann pou 10 000 moun nan lokalite yo</td>\n      <td>NaN</td>\n    </tr>\n    <tr>\n      <th>Definitions3.3</th>\n      <td>Number of core health workers available per 10...</td>\n      <td>Kantite pwofesyonel sante pou 10 000 moun nan ...</td>\n      <td>NaN</td>\n    </tr>\n    <tr>\n      <th>Datasources</th>\n      <td>Facility data are reported from the 2017-2018 ...</td>\n      <td>Sous done sa yo repòte nan resansman nan ane 2...</td>\n      <td>NaN</td>\n    </tr>\n    <tr>\n      <th>DataStrengthsandLimitations</th>\n      <td>The Demographic and Health Survey interviewers...</td>\n      <td>Institut Haïtien de l’Enfance IHE and ICF. 201...</td>\n      <td>NaN</td>\n    </tr>\n    <tr>\n      <th>Right</th>\n      <td>NaN</td>\n      <td>Ayiti Analytics rezève tout dwa © pou travay sila</td>\n      <td>NaN</td>\n    </tr>\n    <tr>\n      <th>tooltip_dep</th>\n      <td>Departement</td>\n      <td>Depatman</td>\n      <td>NaN</td>\n    </tr>\n    <tr>\n      <th>tooltip_com</th>\n      <td>Commune</td>\n      <td>Komin</td>\n      <td>NaN</td>\n    </tr>\n  </tbody>\n</table>\n</div>"
     },
     "metadata": {},
     "execution_count": 18
    }
   ],
   "source": [
    "tranlator"
   ]
  },
  {
   "cell_type": "code",
   "execution_count": null,
   "metadata": {},
   "outputs": [],
   "source": []
  }
 ],
 "metadata": {
  "language_info": {
   "name": "python",
   "codemirror_mode": {
    "name": "ipython",
    "version": 3
   },
   "version": "3.8.2-final"
  },
  "orig_nbformat": 2,
  "file_extension": ".py",
  "mimetype": "text/x-python",
  "name": "python",
  "npconvert_exporter": "python",
  "pygments_lexer": "ipython3",
  "version": 3,
  "kernelspec": {
   "name": "python38232bit1061edd897c34bc9bde6683b5eabcb5f",
   "display_name": "Python 3.8.2 32-bit"
  }
 },
 "nbformat": 4,
 "nbformat_minor": 2
}